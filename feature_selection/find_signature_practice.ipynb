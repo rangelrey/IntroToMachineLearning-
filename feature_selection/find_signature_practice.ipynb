{
 "cells": [
  {
   "cell_type": "code",
   "execution_count": 1,
   "metadata": {},
   "outputs": [],
   "source": [
    "#!/usr/bin/python\n",
    "\n",
    "import pickle\n",
    "import numpy\n",
    "numpy.random.seed(42)\n",
    "\n",
    "\n",
    "### The words (features) and authors (labels), already largely processed.\n",
    "### These files should have been created from the previous (Lesson 10)\n",
    "### mini-project.\n",
    "words_file = \"../text_learning/your_word_data.pkl\" \n",
    "authors_file = \"../text_learning/your_email_authors.pkl\"\n",
    "word_data = pickle.load( open(words_file, \"r\"))\n",
    "\n",
    "word_data2 = list()\n",
    "for i in word_data:\n",
    "\tif \"sshacklensf\" in i: # second one is \"cgermannsf\"\n",
    "\t\ti = i.replace(\"sshacklensf\", \"\")\n",
    "\tif \"cgermannsf\" in i:\n",
    "\t\ti = i.replace(\"cgermannsf\", \"\")\n",
    "\tif \"houectect\" in i:\n",
    "\t\ti = i.replace(\"houectect\", \"\")\n",
    "\tif \"houect\" in i:\n",
    "\t\ti = i.replace(\"houect\", \"\")\n",
    "\tword_data2.append(i)\n",
    "\n",
    "authors = pickle.load( open(authors_file, \"r\") )\n",
    "\n",
    "### test_size is the percentage of events assigned to the test set (the\n",
    "### remainder go into training)\n",
    "### feature matrices changed to dense representations for compatibility with\n",
    "### classifier functions in versions 0.15.2 and earlier\n",
    "from sklearn.model_selection import cross_validate\n",
    "from sklearn.model_selection import train_test_split\n",
    "features_train, features_test, labels_train, labels_test = train_test_split(word_data2, authors, test_size=0.1, random_state=42)\n",
    "\n",
    "from sklearn.feature_extraction.text import TfidfVectorizer\n",
    "vectorizer = TfidfVectorizer(sublinear_tf=True, max_df=0.5,\n",
    "                             stop_words='english')\n",
    "features_train = vectorizer.fit_transform(features_train)\n",
    "features_test  = vectorizer.transform(features_test).toarray()\n",
    "\n",
    "\n",
    "### a classic way to overfit is to use a small number\n",
    "### of data points and a large number of features;\n",
    "### train on only 150 events to put ourselves in this regime\n",
    "features_train = features_train[:150].toarray()\n",
    "labels_train   = labels_train[:150]\n",
    "\n",
    "\n",
    "\n",
    "\n"
   ]
  },
  {
   "cell_type": "code",
   "execution_count": 2,
   "metadata": {},
   "outputs": [
    {
     "name": "stdout",
     "output_type": "stream",
     "text": [
      "0.9379977246871445\n"
     ]
    }
   ],
   "source": [
    "from sklearn import tree \n",
    "from sklearn.metrics import accuracy_score \n",
    "#We assign the model to a variable\n",
    "clf = tree.DecisionTreeClassifier() \n",
    "#We fit the input and output variables (train)\n",
    "clf = clf.fit(features_train, labels_train)\n",
    "#with the new coefficients we can predict the output test data\n",
    "pred = clf.predict(features_test)\n",
    "#we print the accuracy between the predictions and the test labels\n",
    "print accuracy_score(labels_test, pred)"
   ]
  },
  {
   "cell_type": "code",
   "execution_count": 3,
   "metadata": {},
   "outputs": [
    {
     "name": "stdout",
     "output_type": "stream",
     "text": [
      "0.875\n",
      "f:  0.875   index:  37002\n",
      "sara\n"
     ]
    }
   ],
   "source": [
    "#The importance feature with the highest importance is:\n",
    "print max(clf.feature_importances_)\n",
    "featureImportances =clf.feature_importances_\n",
    "numpy.where(featureImportances == 0.875)\n",
    "\n",
    "count = 0\n",
    "for f in featureImportances:\n",
    "\tif(f > 0.2):\n",
    "\t\tprint \"f: \", f, \"  index: \", count\n",
    "\t\tbreak\n",
    "\tcount += 1\n",
    "print vectorizer.get_feature_names()[count]"
   ]
  },
  {
   "cell_type": "code",
   "execution_count": null,
   "metadata": {},
   "outputs": [],
   "source": []
  }
 ],
 "metadata": {
  "kernelspec": {
   "display_name": "Python [conda env:py271]",
   "language": "python",
   "name": "conda-env-py271-py"
  },
  "language_info": {
   "codemirror_mode": {
    "name": "ipython",
    "version": 2
   },
   "file_extension": ".py",
   "mimetype": "text/x-python",
   "name": "python",
   "nbconvert_exporter": "python",
   "pygments_lexer": "ipython2",
   "version": "2.7.10"
  }
 },
 "nbformat": 4,
 "nbformat_minor": 2
}
